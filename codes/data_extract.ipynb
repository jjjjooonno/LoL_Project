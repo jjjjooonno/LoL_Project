{
 "cells": [
  {
   "cell_type": "code",
   "execution_count": 44,
   "metadata": {
    "collapsed": true
   },
   "outputs": [],
   "source": [
    "import json\n",
    "import sys\n",
    "from pandas import DataFrame, read_excel\n",
    "json_data=open(sys.path[1]+'/data/match.json').read()\n",
    "dt = json.loads(json_data)"
   ]
  },
  {
   "cell_type": "code",
   "execution_count": 27,
   "metadata": {},
   "outputs": [
    {
     "name": "stdout",
     "output_type": "stream",
     "text": [
      "1\n이용고객에한함 \n\n2\nChaang \n\n3\n정신이헤롱헤롱 \n\n4\n쭈노쮸노 \n\n5\n마이만 해야징 \n\n6\n와꾸대장재우 \n\n7\n15151515 \n\n8\n리우20 \n\n9\n탑 나르 장인 \n\n10\nasfgwsgsfdg \n\n"
     ]
    }
   ],
   "source": [
    "for i in range(0,10):\n",
    "    print(dt['participantIdentities'][i]['participantId'])\n",
    "    print(dt['participantIdentities'][i]['player']['summonerName'],'\\n')\n"
   ]
  },
  {
   "cell_type": "code",
   "execution_count": 39,
   "metadata": {},
   "outputs": [],
   "source": [
    "json_data_pk=open(sys.path[1]+'/data/perks.json').read()\n",
    "pk = json.loads(json_data_pk)\n",
    "perkid = []\n",
    "perkname = []\n",
    "perkdesc = []\n",
    "stat = []"
   ]
  },
  {
   "cell_type": "code",
   "execution_count": 40,
   "metadata": {},
   "outputs": [],
   "source": [
    "for i in pk:\n",
    "    perkid.append(i['id'])\n",
    "    perkname.append(i['name'])\n",
    "    perkdesc.append(i['shortDesc'])\n",
    "    stat.append(i['endOfGameStatDescs'])\n",
    "df = DataFrame({'id' : perkid,'name' : perkname, 'perkdesc' : perkdesc, 'stat' : stat})\n",
    "df.to_excel(sys.path[1]+'/data/perks.xlsx')"
   ]
  },
  {
   "cell_type": "code",
   "execution_count": 50,
   "metadata": {},
   "outputs": [
    {
     "name": "stdout",
     "output_type": "stream",
     "text": [
      "난입\n"
     ]
    }
   ],
   "source": [
    "print(perk_dict[dt['participants'][0]['stats']['perk0']])"
   ]
  },
  {
   "cell_type": "code",
   "execution_count": 47,
   "metadata": {},
   "outputs": [],
   "source": [
    "perk = read_excel(sys.path[1]+'/data/perks.xlsx')\n",
    "perk_dict = {}\n",
    "for i in range(0,len(perk['id'])):\n",
    "    perk_dict.update({perk['id'][i]:perk['한글이름'][i]})"
   ]
  },
  {
   "cell_type": "code",
   "execution_count": 48,
   "metadata": {},
   "outputs": [
    {
     "name": "stdout",
     "output_type": "stream",
     "text": [
      "{8233: '절대 집중', 8439: '여진', 8410: '쾌속접근', 8229: '신비로운 유성', 8345: '비스킷 배달', 8473: '뼈 방패', 8234: '기민함', 8339: '천상의 신체', 8126: '비열한 한 방', 8429: '사전 준비', 8347: '우주적 통찰력', 8014: '최후의 일격', 8017: '체력차 극복', 8128: '어둠의 수확', 8446: '철거', 8112: '감전', 8138: '시야 수집', 8021: '기민한 발놀림', 8463: '생명의 샘', 8321: '외상', 8236: '폭풍의 결집', 8120: '유령 포로', 8351: '빙결 강화', 8437: '착취의 손아귀', 8465: '수호자', 8306: '마법공학 점멸기', 8134: '영리한 사냥꾼', 8430: '강철 피부', 8359: '도벽', 8299: '최후의 저항', 9104: '전설: 민첩함', 9103: '전설: 핏빛 길', 9105: '전설: 강인함', 8008: '치명적 속도', 8304: '마법의 신발', 8226: '마나순환 팔찌', 8316: '미니언 해체분석기', 8435: '거울 갑옷', 8224: '무효화 구체', 8451: '과잉 성장', 9101: '과다치유', 8313: '완벽한 타이밍', 8230: '난입', 8124: '포식자', 8009: '침착', 8005: '집중 공격', 8135: '굶주린 사냥꾼', 8105: '끈질긴 사냥꾼', 8453: '소생', 8237: '주문 작열', 8444: '재생의 바람', 8143: '돌발 일격', 8214: '콩콩이 소환', 8139: '피의 맛', 7000: nan, 8115: nan, 8208: nan, 8415: nan, 8414: nan, 8004: '공속 12퍼센트 ', 8220: nan, 8207: nan, 8344: nan, 8416: nan, 8006: '공속 12퍼센트', 8114: nan, 8205: nan, 8454: nan, 8016: '공속 12퍼센트', 8318: nan, 8007: '공속 12퍼센트', 8319: nan, 8320: nan, 8127: nan, 8243: '궁극의 모자', 8109: nan, 8352: '시간 왜곡 물약', 8210: '깨달음', 9111: '승전보', 8242: '불굴의 의지', 8326: '봉인 풀린 주문서', 8232: '물 위를 걷는 자', 8136: '좀비 와드'}\n"
     ]
    }
   ],
   "source": [
    ""
   ]
  },
  {
   "cell_type": "code",
   "execution_count": 51,
   "metadata": {},
   "outputs": [
    {
     "ename": "KeyError",
     "evalue": "''",
     "traceback": [
      "\u001b[0;31m---------------------------------------------------------------------------\u001b[0m",
      "\u001b[0;31mKeyError\u001b[0m                                  Traceback (most recent call last)",
      "\u001b[0;32m<ipython-input-51-4483e140cdf5>\u001b[0m in \u001b[0;36m<module>\u001b[0;34m()\u001b[0m\n\u001b[0;32m----> 1\u001b[0;31m \u001b[0mprint\u001b[0m\u001b[0;34m(\u001b[0m\u001b[0mdt\u001b[0m\u001b[0;34m[\u001b[0m\u001b[0;34m''\u001b[0m\u001b[0;34m]\u001b[0m\u001b[0;34m)\u001b[0m\u001b[0;34m\u001b[0m\u001b[0m\n\u001b[0m",
      "\u001b[0;31mKeyError\u001b[0m: ''"
     ],
     "output_type": "error"
    }
   ],
   "source": [
    "print(dt[''])"
   ]
  },
  {
   "cell_type": "code",
   "execution_count": 52,
   "metadata": {},
   "outputs": [],
   "source": [
    "json_data_item=open(sys.path[1]+'/data/items.json').read()\n",
    "items = json.loads(json_data_item)"
   ]
  },
  {
   "cell_type": "code",
   "execution_count": 53,
   "metadata": {},
   "outputs": [
    {
     "name": "stdout",
     "output_type": "stream",
     "text": [
      "dict_keys(['data', 'type', 'version'])\n"
     ]
    }
   ],
   "source": [
    "print(items.keys())"
   ]
  },
  {
   "cell_type": "code",
   "execution_count": 62,
   "metadata": {},
   "outputs": [],
   "source": [
    "iid = []\n",
    "iname = []\n",
    "idesc = []\n",
    "\n",
    "for i in items['data']:\n",
    "    try:\n",
    "        iid.append(items['data'][i]['id'])\n",
    "    except KeyError:\n",
    "        iid.append('999')\n",
    "    try:\n",
    "        iname.append(items['data'][i]['name'])\n",
    "    except KeyError:\n",
    "        iname.append('999')\n",
    "    try:\n",
    "        idesc.append(items['data'][i]['description'])\n",
    "    except KeyError:\n",
    "        idesc.append('999')"
   ]
  },
  {
   "cell_type": "code",
   "execution_count": 64,
   "metadata": {},
   "outputs": [],
   "source": [
    "idt = DataFrame({'id' : iid, 'name' : iname, 'desc' : idesc})\n",
    "idt.to_excel(sys.path[1]+'/data/items.xlsx')"
   ]
  },
  {
   "cell_type": "code",
   "execution_count": null,
   "metadata": {},
   "outputs": [],
   "source": []
  }
 ],
 "metadata": {
  "kernelspec": {
   "display_name": "Python 2",
   "language": "python",
   "name": "python2"
  },
  "language_info": {
   "codemirror_mode": {
    "name": "ipython",
    "version": 2
   },
   "file_extension": ".py",
   "mimetype": "text/x-python",
   "name": "python",
   "nbconvert_exporter": "python",
   "pygments_lexer": "ipython2",
   "version": "2.7.6"
  }
 },
 "nbformat": 4,
 "nbformat_minor": 0
}
