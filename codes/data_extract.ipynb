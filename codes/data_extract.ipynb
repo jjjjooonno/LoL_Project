{
 "cells": [
  {
   "cell_type": "code",
   "execution_count": 36,
   "metadata": {
    "collapsed": true
   },
   "outputs": [],
   "source": [
    "import json\n",
    "import sys\n",
    "from pandas import DataFrame\n",
    "json_data=open(sys.path[1]+'/data/match.json').read()\n",
    "dt = json.loads(json_data)"
   ]
  },
  {
   "cell_type": "code",
   "execution_count": 27,
   "metadata": {},
   "outputs": [
    {
     "name": "stdout",
     "output_type": "stream",
     "text": [
      "1\n이용고객에한함 \n\n2\nChaang \n\n3\n정신이헤롱헤롱 \n\n4\n쭈노쮸노 \n\n5\n마이만 해야징 \n\n6\n와꾸대장재우 \n\n7\n15151515 \n\n8\n리우20 \n\n9\n탑 나르 장인 \n\n10\nasfgwsgsfdg \n\n"
     ]
    }
   ],
   "source": [
    "for i in range(0,10):\n",
    "    print(dt['participantIdentities'][i]['participantId'])\n",
    "    print(dt['participantIdentities'][i]['player']['summonerName'],'\\n')\n"
   ]
  },
  {
   "cell_type": "code",
   "execution_count": 39,
   "metadata": {},
   "outputs": [],
   "source": [
    "json_data_pk=open(sys.path[1]+'/data/perks.json').read()\n",
    "pk = json.loads(json_data_pk)\n",
    "perkid = []\n",
    "perkname = []\n",
    "perkdesc = []\n",
    "stat = []"
   ]
  },
  {
   "cell_type": "code",
   "execution_count": 40,
   "metadata": {},
   "outputs": [],
   "source": [
    "for i in pk:\n",
    "    perkid.append(i['id'])\n",
    "    perkname.append(i['name'])\n",
    "    perkdesc.append(i['shortDesc'])\n",
    "    stat.append(i['endOfGameStatDescs'])\n",
    "df = DataFrame({'id' : perkid,'name' : perkname, 'perkdesc' : perkdesc, 'stat' : stat})\n",
    "df.to_excel(sys.path[1]+'/data/perks.xlsx')"
   ]
  },
  {
   "cell_type": "code",
   "execution_count": null,
   "metadata": {},
   "outputs": [],
   "source": []
  }
 ],
 "metadata": {
  "kernelspec": {
   "display_name": "Python 2",
   "language": "python",
   "name": "python2"
  },
  "language_info": {
   "codemirror_mode": {
    "name": "ipython",
    "version": 2
   },
   "file_extension": ".py",
   "mimetype": "text/x-python",
   "name": "python",
   "nbconvert_exporter": "python",
   "pygments_lexer": "ipython2",
   "version": "2.7.6"
  }
 },
 "nbformat": 4,
 "nbformat_minor": 0
}
